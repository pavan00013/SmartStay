{
  "nbformat": 4,
  "nbformat_minor": 0,
  "metadata": {
    "colab": {
      "provenance": []
    },
    "kernelspec": {
      "name": "python3",
      "display_name": "Python 3"
    },
    "language_info": {
      "name": "python"
    }
  },
  "cells": [
    {
      "cell_type": "code",
      "execution_count": 75,
      "metadata": {
        "id": "dVNL6_1wWzkU"
      },
      "outputs": [],
      "source": [
        "import pandas as pd\n",
        "from pandas import json_normalize\n"
      ]
    },
    {
      "cell_type": "code",
      "source": [
        "import numpy as np"
      ],
      "metadata": {
        "id": "rNk0j3E-alyY"
      },
      "execution_count": 2,
      "outputs": []
    },
    {
      "cell_type": "code",
      "source": [
        "df=pd.read_csv(\"/content/food_rechanged.csv\")"
      ],
      "metadata": {
        "id": "NVVWhBmvanYF"
      },
      "execution_count": 38,
      "outputs": []
    },
    {
      "cell_type": "code",
      "source": [
        "df.head(5)"
      ],
      "metadata": {
        "colab": {
          "base_uri": "https://localhost:8080/",
          "height": 206
        },
        "id": "yyRkzBkOasm6",
        "outputId": "265898c4-beee-4c80-9215-3c8d3f26035b"
      },
      "execution_count": 39,
      "outputs": [
        {
          "output_type": "execute_result",
          "data": {
            "text/plain": [
              "   cook  eating_out  employment  ethnic_food  exercise  fruit_day  income  \\\n",
              "0     2           3           3            1         1          5       5   \n",
              "1     3           2           2            4         1          4       4   \n",
              "2     1           2           3            5         2          5       6   \n",
              "3     2           2           3            5         3          4       6   \n",
              "4     1           2           2            4         1          4       6   \n",
              "\n",
              "   on_off_campus  pay_meal_out  sports  veggies_day  \n",
              "0              1             2       1            5  \n",
              "1              1             4       1            4  \n",
              "2              2             3       2            5  \n",
              "3              1             2       2            3  \n",
              "4              1             4       1            4  "
            ],
            "text/html": [
              "\n",
              "  <div id=\"df-b96e18fc-6bc9-41fa-a551-e17db6e20ad3\" class=\"colab-df-container\">\n",
              "    <div>\n",
              "<style scoped>\n",
              "    .dataframe tbody tr th:only-of-type {\n",
              "        vertical-align: middle;\n",
              "    }\n",
              "\n",
              "    .dataframe tbody tr th {\n",
              "        vertical-align: top;\n",
              "    }\n",
              "\n",
              "    .dataframe thead th {\n",
              "        text-align: right;\n",
              "    }\n",
              "</style>\n",
              "<table border=\"1\" class=\"dataframe\">\n",
              "  <thead>\n",
              "    <tr style=\"text-align: right;\">\n",
              "      <th></th>\n",
              "      <th>cook</th>\n",
              "      <th>eating_out</th>\n",
              "      <th>employment</th>\n",
              "      <th>ethnic_food</th>\n",
              "      <th>exercise</th>\n",
              "      <th>fruit_day</th>\n",
              "      <th>income</th>\n",
              "      <th>on_off_campus</th>\n",
              "      <th>pay_meal_out</th>\n",
              "      <th>sports</th>\n",
              "      <th>veggies_day</th>\n",
              "    </tr>\n",
              "  </thead>\n",
              "  <tbody>\n",
              "    <tr>\n",
              "      <th>0</th>\n",
              "      <td>2</td>\n",
              "      <td>3</td>\n",
              "      <td>3</td>\n",
              "      <td>1</td>\n",
              "      <td>1</td>\n",
              "      <td>5</td>\n",
              "      <td>5</td>\n",
              "      <td>1</td>\n",
              "      <td>2</td>\n",
              "      <td>1</td>\n",
              "      <td>5</td>\n",
              "    </tr>\n",
              "    <tr>\n",
              "      <th>1</th>\n",
              "      <td>3</td>\n",
              "      <td>2</td>\n",
              "      <td>2</td>\n",
              "      <td>4</td>\n",
              "      <td>1</td>\n",
              "      <td>4</td>\n",
              "      <td>4</td>\n",
              "      <td>1</td>\n",
              "      <td>4</td>\n",
              "      <td>1</td>\n",
              "      <td>4</td>\n",
              "    </tr>\n",
              "    <tr>\n",
              "      <th>2</th>\n",
              "      <td>1</td>\n",
              "      <td>2</td>\n",
              "      <td>3</td>\n",
              "      <td>5</td>\n",
              "      <td>2</td>\n",
              "      <td>5</td>\n",
              "      <td>6</td>\n",
              "      <td>2</td>\n",
              "      <td>3</td>\n",
              "      <td>2</td>\n",
              "      <td>5</td>\n",
              "    </tr>\n",
              "    <tr>\n",
              "      <th>3</th>\n",
              "      <td>2</td>\n",
              "      <td>2</td>\n",
              "      <td>3</td>\n",
              "      <td>5</td>\n",
              "      <td>3</td>\n",
              "      <td>4</td>\n",
              "      <td>6</td>\n",
              "      <td>1</td>\n",
              "      <td>2</td>\n",
              "      <td>2</td>\n",
              "      <td>3</td>\n",
              "    </tr>\n",
              "    <tr>\n",
              "      <th>4</th>\n",
              "      <td>1</td>\n",
              "      <td>2</td>\n",
              "      <td>2</td>\n",
              "      <td>4</td>\n",
              "      <td>1</td>\n",
              "      <td>4</td>\n",
              "      <td>6</td>\n",
              "      <td>1</td>\n",
              "      <td>4</td>\n",
              "      <td>1</td>\n",
              "      <td>4</td>\n",
              "    </tr>\n",
              "  </tbody>\n",
              "</table>\n",
              "</div>\n",
              "    <div class=\"colab-df-buttons\">\n",
              "\n",
              "  <div class=\"colab-df-container\">\n",
              "    <button class=\"colab-df-convert\" onclick=\"convertToInteractive('df-b96e18fc-6bc9-41fa-a551-e17db6e20ad3')\"\n",
              "            title=\"Convert this dataframe to an interactive table.\"\n",
              "            style=\"display:none;\">\n",
              "\n",
              "  <svg xmlns=\"http://www.w3.org/2000/svg\" height=\"24px\" viewBox=\"0 -960 960 960\">\n",
              "    <path d=\"M120-120v-720h720v720H120Zm60-500h600v-160H180v160Zm220 220h160v-160H400v160Zm0 220h160v-160H400v160ZM180-400h160v-160H180v160Zm440 0h160v-160H620v160ZM180-180h160v-160H180v160Zm440 0h160v-160H620v160Z\"/>\n",
              "  </svg>\n",
              "    </button>\n",
              "\n",
              "  <style>\n",
              "    .colab-df-container {\n",
              "      display:flex;\n",
              "      gap: 12px;\n",
              "    }\n",
              "\n",
              "    .colab-df-convert {\n",
              "      background-color: #E8F0FE;\n",
              "      border: none;\n",
              "      border-radius: 50%;\n",
              "      cursor: pointer;\n",
              "      display: none;\n",
              "      fill: #1967D2;\n",
              "      height: 32px;\n",
              "      padding: 0 0 0 0;\n",
              "      width: 32px;\n",
              "    }\n",
              "\n",
              "    .colab-df-convert:hover {\n",
              "      background-color: #E2EBFA;\n",
              "      box-shadow: 0px 1px 2px rgba(60, 64, 67, 0.3), 0px 1px 3px 1px rgba(60, 64, 67, 0.15);\n",
              "      fill: #174EA6;\n",
              "    }\n",
              "\n",
              "    .colab-df-buttons div {\n",
              "      margin-bottom: 4px;\n",
              "    }\n",
              "\n",
              "    [theme=dark] .colab-df-convert {\n",
              "      background-color: #3B4455;\n",
              "      fill: #D2E3FC;\n",
              "    }\n",
              "\n",
              "    [theme=dark] .colab-df-convert:hover {\n",
              "      background-color: #434B5C;\n",
              "      box-shadow: 0px 1px 3px 1px rgba(0, 0, 0, 0.15);\n",
              "      filter: drop-shadow(0px 1px 2px rgba(0, 0, 0, 0.3));\n",
              "      fill: #FFFFFF;\n",
              "    }\n",
              "  </style>\n",
              "\n",
              "    <script>\n",
              "      const buttonEl =\n",
              "        document.querySelector('#df-b96e18fc-6bc9-41fa-a551-e17db6e20ad3 button.colab-df-convert');\n",
              "      buttonEl.style.display =\n",
              "        google.colab.kernel.accessAllowed ? 'block' : 'none';\n",
              "\n",
              "      async function convertToInteractive(key) {\n",
              "        const element = document.querySelector('#df-b96e18fc-6bc9-41fa-a551-e17db6e20ad3');\n",
              "        const dataTable =\n",
              "          await google.colab.kernel.invokeFunction('convertToInteractive',\n",
              "                                                    [key], {});\n",
              "        if (!dataTable) return;\n",
              "\n",
              "        const docLinkHtml = 'Like what you see? Visit the ' +\n",
              "          '<a target=\"_blank\" href=https://colab.research.google.com/notebooks/data_table.ipynb>data table notebook</a>'\n",
              "          + ' to learn more about interactive tables.';\n",
              "        element.innerHTML = '';\n",
              "        dataTable['output_type'] = 'display_data';\n",
              "        await google.colab.output.renderOutput(dataTable, element);\n",
              "        const docLink = document.createElement('div');\n",
              "        docLink.innerHTML = docLinkHtml;\n",
              "        element.appendChild(docLink);\n",
              "      }\n",
              "    </script>\n",
              "  </div>\n",
              "\n",
              "\n",
              "<div id=\"df-421bf8b1-cfff-40da-a83a-a5471335d82d\">\n",
              "  <button class=\"colab-df-quickchart\" onclick=\"quickchart('df-421bf8b1-cfff-40da-a83a-a5471335d82d')\"\n",
              "            title=\"Suggest charts.\"\n",
              "            style=\"display:none;\">\n",
              "\n",
              "<svg xmlns=\"http://www.w3.org/2000/svg\" height=\"24px\"viewBox=\"0 0 24 24\"\n",
              "     width=\"24px\">\n",
              "    <g>\n",
              "        <path d=\"M19 3H5c-1.1 0-2 .9-2 2v14c0 1.1.9 2 2 2h14c1.1 0 2-.9 2-2V5c0-1.1-.9-2-2-2zM9 17H7v-7h2v7zm4 0h-2V7h2v10zm4 0h-2v-4h2v4z\"/>\n",
              "    </g>\n",
              "</svg>\n",
              "  </button>\n",
              "\n",
              "<style>\n",
              "  .colab-df-quickchart {\n",
              "    background-color: #E8F0FE;\n",
              "    border: none;\n",
              "    border-radius: 50%;\n",
              "    cursor: pointer;\n",
              "    display: none;\n",
              "    fill: #1967D2;\n",
              "    height: 32px;\n",
              "    padding: 0 0 0 0;\n",
              "    width: 32px;\n",
              "  }\n",
              "\n",
              "  .colab-df-quickchart:hover {\n",
              "    background-color: #E2EBFA;\n",
              "    box-shadow: 0px 1px 2px rgba(60, 64, 67, 0.3), 0px 1px 3px 1px rgba(60, 64, 67, 0.15);\n",
              "    fill: #174EA6;\n",
              "  }\n",
              "\n",
              "  [theme=dark] .colab-df-quickchart {\n",
              "    background-color: #3B4455;\n",
              "    fill: #D2E3FC;\n",
              "  }\n",
              "\n",
              "  [theme=dark] .colab-df-quickchart:hover {\n",
              "    background-color: #434B5C;\n",
              "    box-shadow: 0px 1px 3px 1px rgba(0, 0, 0, 0.15);\n",
              "    filter: drop-shadow(0px 1px 2px rgba(0, 0, 0, 0.3));\n",
              "    fill: #FFFFFF;\n",
              "  }\n",
              "</style>\n",
              "\n",
              "  <script>\n",
              "    async function quickchart(key) {\n",
              "      const charts = await google.colab.kernel.invokeFunction(\n",
              "          'suggestCharts', [key], {});\n",
              "    }\n",
              "    (() => {\n",
              "      let quickchartButtonEl =\n",
              "        document.querySelector('#df-421bf8b1-cfff-40da-a83a-a5471335d82d button');\n",
              "      quickchartButtonEl.style.display =\n",
              "        google.colab.kernel.accessAllowed ? 'block' : 'none';\n",
              "    })();\n",
              "  </script>\n",
              "</div>\n",
              "    </div>\n",
              "  </div>\n"
            ]
          },
          "metadata": {},
          "execution_count": 39
        }
      ]
    },
    {
      "cell_type": "code",
      "source": [
        "import seaborn as sns"
      ],
      "metadata": {
        "id": "N3GjdYisauyp"
      },
      "execution_count": 40,
      "outputs": []
    },
    {
      "cell_type": "code",
      "source": [
        "import matplotlib.pyplot as plt\n"
      ],
      "metadata": {
        "id": "QoYEz4pAa6QY"
      },
      "execution_count": 41,
      "outputs": []
    },
    {
      "cell_type": "code",
      "source": [
        "file_path = \"/content/food_rechanged.csv\""
      ],
      "metadata": {
        "id": "OlsgPAuNbfQ4"
      },
      "execution_count": 42,
      "outputs": []
    },
    {
      "cell_type": "code",
      "source": [
        "data = pd.read_csv(file_path)"
      ],
      "metadata": {
        "id": "ytDGSWQzbnQu"
      },
      "execution_count": 43,
      "outputs": []
    },
    {
      "cell_type": "code",
      "source": [
        "sns.set(style=\"whitegrid\")"
      ],
      "metadata": {
        "id": "WEu-Xq-scNG2"
      },
      "execution_count": 44,
      "outputs": []
    },
    {
      "cell_type": "code",
      "source": [
        "plt.figure(figsize=(250, 100))"
      ],
      "metadata": {
        "colab": {
          "base_uri": "https://localhost:8080/",
          "height": 53
        },
        "id": "pZw4dfWkcVgb",
        "outputId": "77dfb0b8-f14c-4790-b387-0652c86c132c"
      },
      "execution_count": 45,
      "outputs": [
        {
          "output_type": "execute_result",
          "data": {
            "text/plain": [
              "<Figure size 25000x10000 with 0 Axes>"
            ]
          },
          "metadata": {},
          "execution_count": 45
        },
        {
          "output_type": "display_data",
          "data": {
            "text/plain": [
              "<Figure size 25000x10000 with 0 Axes>"
            ]
          },
          "metadata": {}
        }
      ]
    },
    {
      "cell_type": "code",
      "source": [
        "variables=['cook','eating_out','employment','ethnic_food','exercise','fruit_day','income','on_off_campus','pay_meal_out','sports','veggies_day']"
      ],
      "metadata": {
        "id": "bTZq7WPicdHN"
      },
      "execution_count": 46,
      "outputs": []
    },
    {
      "cell_type": "code",
      "source": [
        "sns.boxplot(data=df[variables],orient='h')\n",
        "plt.show()"
      ],
      "metadata": {
        "colab": {
          "base_uri": "https://localhost:8080/",
          "height": 434
        },
        "id": "Bns_bjxydIBr",
        "outputId": "c0a2d61b-7c23-4789-d9be-386f48e5a587"
      },
      "execution_count": 47,
      "outputs": [
        {
          "output_type": "display_data",
          "data": {
            "text/plain": [
              "<Figure size 640x480 with 1 Axes>"
            ],
            "image/png": "[encoded data removed]"
          },
          "metadata": {}
        }
      ]
    },
    {
      "cell_type": "code",
      "source": [
        "from sklearn.cluster import KMeans"
      ],
      "metadata": {
        "id": "PCl3I_cvdgRe"
      },
      "execution_count": 48,
      "outputs": []
    },
    {
      "cell_type": "code",
      "source": [
        "wcss = []\n",
        "for k in range(1, 11):\n",
        "  kmeans = KMeans(n_clusters=k, init='k-means++', max_iter=300, n_init=10, random_state=42)\n",
        "  kmeans.fit(df)\n",
        "  wcss.append(kmeans.inertia_)"
      ],
      "metadata": {
        "id": "KV128IePe41S"
      },
      "execution_count": 50,
      "outputs": []
    },
    {
      "cell_type": "code",
      "source": [
        "plt.figure(figsize=(8, 6))\n",
        "plt.plot(range(1, 11), wcss, marker='o')\n",
        "plt.title('Elbow Method')\n",
        "plt.xlabel('Number of Clusters')\n",
        "plt.ylabel('WCSS')\n",
        "plt.show()"
      ],
      "metadata": {
        "colab": {
          "base_uri": "https://localhost:8080/",
          "height": 573
        },
        "id": "KNKIZTtLf6Pt",
        "outputId": "d1ed364a-597a-41ee-a3f5-9002ae7e80c4"
      },
      "execution_count": 51,
      "outputs": [
        {
          "output_type": "display_data",
          "data": {
            "text/plain": [
              "<Figure size 800x600 with 1 Axes>"
            ],
            "image/png": "[encoded data removed]"
          },
          "metadata": {}
        }
      ]
    },
    {
      "cell_type": "code",
      "source": [
        "from tables.leaf import limit_es\n",
        "import requests\n",
        "from datetime import datetime\n",
        "\n",
        "# Foursquare credentials\n",
        "CLIENT_ID = 'YOUR_CLIENT_ID'\n",
        "CLIENT_SECRET = 'YOUR_CLIENT_SECRET'\n",
        "\n",
        "# Coordinates of the point you want to search around (example coordinates in Bangalore)\n",
        "LATITUDE = 13.133521\n",
        "LONGITUDE = 77.567135\n",
        "\n",
        "# Get current date in YYYYMMDD format\n",
        "current_date = datetime.today().strftime('%Y%m%d')\n",
        "\n",
        "# API endpoint\n",
        "API_URL = 'https://api.foursquare.com/v2/venues/explore'\n",
        "\n",
        "# Parameters for the API request\n",
        "params = {\n",
        "    'client_id': 'KTCJJ2YZ2143QHEZ2JAQS4FJIO5DLSDO0YN4YBXPMI5NKTEF',\n",
        "    'client_secret': 'KNG2LO22BPLHN1E3OAHWLYQ5PQBN14XYZMEMAS0CPJEJKOTR',\n",
        "    'v': current_date,  # Use the current date in YYYYMMDD format\n",
        "    'll': f'{LATITUDE},{LONGITUDE}',  # Latitude and Longitude of the center point\n",
        "    'section': 'residential',  # Specify the section for residential places\n",
        "    'limit': 500  # Limit the number of results\n",
        "}\n",
        "response = requests.get(API_URL, params=params)\n",
        "data = response.json()\n",
        "\n",
        "# Process and print the results\n",
        "if 'response' in data and 'groups' in data['response']:\n",
        "    residential_places = data['response']['groups'][0]['items']\n",
        "    for place in residential_places:\n",
        "        name = place['venue']['name']\n",
        "        address = place['venue']['location'].get('address', 'Address not available')\n",
        "        print(f\"Name: {name}, Address: {address}\")"
      ],
      "metadata": {
        "colab": {
          "base_uri": "https://localhost:8080/"
        },
        "id": "SIiPVZIAkBR0",
        "outputId": "44b882d0-1a9c-42c0-ac1e-6a0e9cd24fc7"
      },
      "execution_count": 70,
      "outputs": [
        {
          "output_type": "stream",
          "name": "stdout",
          "text": [
            "Name: Kanti Sweets, Address: #293, SMK complex\n",
            "Name: Decathlon, Address: Address not available\n",
            "Name: Big Straw, Address: Century Corbel Commercial, Sahakarnagar Main Road\n",
            "Name: Sunburn Arena I AM Hardwell, Address: Supernova Convention Centre\n",
            "Name: Bhartiya City, Address: 32/1, Thanisandra Main Rd., Chokkanahapalli Hegde Nagar\n",
            "Name: Inox Garuda, YNT, Address: Garuda Mall, Yelahanka\n",
            "Name: Cafe Coffee Day, Address: Yelahanka New town,\n",
            "Name: The Windflower Resort and Spa, Address: Windflower Prakruthi, Plot 12A\n",
            "Name: Freskka, Address: Sahakara Nagar\n",
            "Name: Swensen's, Address: Address not available\n",
            "Name: More Mega Store, Address: Sahakaranagar\n",
            "Name: Embassy International Riding School, Address: Address not available\n",
            "Name: Cafe Coffee Day, Address: Next to Navachetana hospital\n",
            "Name: Baskin-Robbins, Address: Address not available\n",
            "Name: Sanjay Dhaba, Address: Bellary Rd\n",
            "Name: Jus'Trufs Chocolate Shop and Cafe, Address: Jus'Trufs, Jakkur Road, Jakkur\n",
            "Name: Cafe Potenza, Address: Address not available\n",
            "Name: Lifestyle, Address: RMZ Galleria Mall\n",
            "Name: Sunday Soul Sante, Address: Address not available\n",
            "Name: Cafe Coffee Day, Address: NH7 Yelahanka Bypass\n",
            "Name: cafe coffee day, Address: Sharath complex,No.174\n",
            "Name: Domino's Pizza, Address: Vidyaranyapura\n",
            "Name: A2B restaurant, Address: Address not available\n",
            "Name: Cafe Coffee Day, Address: Narasipura Village, Phase 3,Vidyaranyapura Layout,\n",
            "Name: Swathi Gardenia, Address: Bellary Road\n",
            "Name: Just Bake, Address: Nr Yelahanka Police station\n",
            "Name: Olde Bangalore Resort & Convention Center, Address: 206, Utopia Layout, TharabanahalliJala Hobli\n",
            "Name: McDonald's, Address: Sahakar Nagar\n",
            "Name: Shivas Kabab Corner, Address: Address not available\n",
            "Name: Jakkur Airfield, Address: Jakkur, Hebbal Flyover\n",
            "Name: Subway, Address: Address not available\n",
            "Name: Baskin-Robbins, Address: Esteem Mall\n",
            "Name: Bhagini Pavilion, Address: Singhanayaka Hallu\n",
            "Name: Subway, Address: 16 A Main Rd, Yelahanka Satellite Town, Yelahanka, Bangalore\n",
            "Name: Baskin-Robbins, Address: #957, 5th Block, BEL Layout\n",
            "Name: Angsana Oasis Resort Bangalore, Address: Northwest Country Main Doddaballapur Road\n",
            "Name: Cafe Coffee Day, Address: Sahakara Nagar\n",
            "Name: Sahakarnagar Park, Address: Sahakarnagar, 1st Main\n",
            "Name: NES Bus Stop, Address: Address not available\n",
            "Name: Domino's Pizza, Address: Chokkanahalli\n",
            "Name: 9th Mile Dhaba, Address: Royal Orchid Resort & Convention Centre, Allalasandra, Bellary Road, Yelahanka\n",
            "Name: Barista Lavazza, Address: Sahakarnagar\n",
            "Name: Gangamma Circle, Address: Address not available\n",
            "Name: Chairmans Club and Resort, Address: 14/1 Kodigehalli Main Road\n",
            "Name: Nesara Grand, Address: Address not available\n",
            "Name: Baskin-Robbins, Address: Sahakaranagar\n",
            "Name: Cafe Coffee Day@ Sai Leela Hotel, Address: Address not available\n",
            "Name: The Sai Leela, Address: Address not available\n",
            "Name: Cafe Coffee Day, Address: Address not available\n",
            "Name: Tawa, Tandoor Aur Tadka, Address: G-block, Byatarayanapura, Sahakara Nagar\n",
            "Name: Tangerine, Address: Angsana Oasis And Spa\n",
            "Name: Hesaraghatta Lake, Address: Address not available\n",
            "Name: Prakruthi Club & Resorts, Address: Address not available\n",
            "Name: Yesarghatta Lake, Address: Address not available\n"
          ]
        }
      ]
    },
    {
      "cell_type": "code",
      "source": [
        "import requests\n",
        "from datetime import datetime\n",
        "\n",
        "def get_residential_places(client_id, client_secret, latitude, longitude, radius=1000, limit=50):\n",
        "    current_date = datetime.today().strftime('%Y%m%d')\n",
        "    API_URL = 'https://api.foursquare.com/v2/venues/explore'\n",
        "    params = {\n",
        "        'client_id': client_id,\n",
        "        'client_secret': client_secret,\n",
        "        'v': current_date,\n",
        "        'll': f'{latitude},{longitude}',\n",
        "        'radius': radius,\n",
        "        'section': 'residential',\n",
        "        'limit': limit\n",
        "    }\n",
        "    response = requests.get(API_URL, params=params)\n",
        "    data = response.json()\n",
        "    if 'response' in data and 'groups' in data['response']:\n",
        "        residential_places = data['response']['groups'][0]['items']\n",
        "        return residential_places\n",
        "    else:\n",
        "        return []\n",
        "\n",
        "# Foursquare credentials\n",
        "CLIENT_ID = 'KTCJJ2YZ2143QHEZ2JAQS4FJIO5DLSDO0YN4YBXPMI5NKTEF'\n",
        "CLIENT_SECRET = 'KNG2LO22BPLHN1E3OAHWLYQ5PQBN14XYZMEMAS0CPJEJKOTR'\n",
        "\n",
        "# Coordinates of the point you want to search around (example coordinates in Bangalore)\n",
        "LATITUDE = 13.133521\n",
        "LONGITUDE = 77.567135\n",
        "\n",
        "# Call the function to get residential places\n",
        "residential_results = get_residential_places(CLIENT_ID, CLIENT_SECRET, LATITUDE, LONGITUDE)\n",
        "\n",
        "# Store the results in a variable\n",
        "residential_places_list = []\n",
        "for place in residential_results:\n",
        "    name = place['venue']['name']\n",
        "    address = place['venue']['location'].get('address', 'Address not available')\n",
        "    residential_places_list.append({'Name': name, 'Address': address})"
      ],
      "metadata": {
        "id": "2_dg2fxNnmJD"
      },
      "execution_count": 72,
      "outputs": []
    },
    {
      "cell_type": "code",
      "source": [
        "residential_results\n"
      ],
      "metadata": {
        "colab": {
          "base_uri": "https://localhost:8080/"
        },
        "id": "5WdRHFMJq2e1",
        "outputId": "92499887-ef21-44d3-aef1-c64499fd2229"
      },
      "execution_count": 73,
      "outputs": [
        {
          "output_type": "execute_result",
          "data": {
            "text/plain": [
              "[{'reasons': {'count': 0,\n",
              "   'items': [{'summary': 'This spot is popular',\n",
              "     'type': 'general',\n",
              "     'reasonName': 'globalInteractionReason'}]},\n",
              "  'venue': {'id': '517cde57e4b0efc90515ccdf',\n",
              "   'name': 'Akshaya Family Restaurant',\n",
              "   'location': {'lat': 13.13674,\n",
              "    'lng': 77.569436,\n",
              "    'labeledLatLngs': [{'label': 'display',\n",
              "      'lat': 13.13674,\n",
              "      'lng': 77.569436}],\n",
              "    'distance': 436,\n",
              "    'cc': 'IN',\n",
              "    'country': 'India',\n",
              "    'formattedAddress': ['India']},\n",
              "   'categories': [{'id': '4bf58dd8d48988d10f941735',\n",
              "     'name': 'Indian Restaurant',\n",
              "     'pluralName': 'Indian Restaurants',\n",
              "     'shortName': 'Indian',\n",
              "     'icon': {'prefix': 'https://ss3.4sqi.net/img/categories_v2/food/indian_',\n",
              "      'suffix': '.png'},\n",
              "     'primary': True}],\n",
              "   'photos': {'count': 0, 'groups': []},\n",
              "   'createdAt': 1367137879},\n",
              "  'referralId': 'e-0-517cde57e4b0efc90515ccdf-0'},\n",
              " {'reasons': {'count': 0,\n",
              "   'items': [{'summary': 'This spot is popular',\n",
              "     'type': 'general',\n",
              "     'reasonName': 'globalInteractionReason'}]},\n",
              "  'venue': {'id': '4d7c79df136bf04d505a608d',\n",
              "   'name': 'The Green House',\n",
              "   'location': {'lat': 13.136401671816362,\n",
              "    'lng': 77.57149906667286,\n",
              "    'labeledLatLngs': [{'label': 'display',\n",
              "      'lat': 13.136401671816362,\n",
              "      'lng': 77.57149906667286}],\n",
              "    'distance': 571,\n",
              "    'cc': 'IN',\n",
              "    'country': 'India',\n",
              "    'formattedAddress': ['India']},\n",
              "   'categories': [{'id': '4bf58dd8d48988d10f941735',\n",
              "     'name': 'Indian Restaurant',\n",
              "     'pluralName': 'Indian Restaurants',\n",
              "     'shortName': 'Indian',\n",
              "     'icon': {'prefix': 'https://ss3.4sqi.net/img/categories_v2/food/indian_',\n",
              "      'suffix': '.png'},\n",
              "     'primary': True}],\n",
              "   'photos': {'count': 0, 'groups': []},\n",
              "   'createdAt': 1300003295},\n",
              "  'referralId': 'e-0-4d7c79df136bf04d505a608d-1'},\n",
              " {'reasons': {'count': 0,\n",
              "   'items': [{'summary': 'This spot is popular',\n",
              "     'type': 'general',\n",
              "     'reasonName': 'globalInteractionReason'}]},\n",
              "  'venue': {'id': '5b66fa60396de0002c3ec727',\n",
              "   'name': 'Shell',\n",
              "   'location': {'address': 'Doddaballapur Rd',\n",
              "    'lat': 13.13043842,\n",
              "    'lng': 77.57159492,\n",
              "    'labeledLatLngs': [{'label': 'display',\n",
              "      'lat': 13.13043842,\n",
              "      'lng': 77.57159492}],\n",
              "    'distance': 592,\n",
              "    'postalCode': '560064',\n",
              "    'cc': 'IN',\n",
              "    'city': 'Bangalore',\n",
              "    'state': 'Karnātaka',\n",
              "    'country': 'India',\n",
              "    'formattedAddress': ['Doddaballapur Rd',\n",
              "     'Bangalore 560064',\n",
              "     'Karnātaka',\n",
              "     'India']},\n",
              "   'categories': [{'id': '4bf58dd8d48988d113951735',\n",
              "     'name': 'Fuel Station',\n",
              "     'pluralName': 'Fuel Stations',\n",
              "     'shortName': 'Fuel Station',\n",
              "     'icon': {'prefix': 'https://ss3.4sqi.net/img/categories_v2/shops/gas_',\n",
              "      'suffix': '.png'},\n",
              "     'primary': True}],\n",
              "   'photos': {'count': 0, 'groups': []},\n",
              "   'venuePage': {'id': '592427926'},\n",
              "   'createdAt': 1533475424},\n",
              "  'referralId': 'e-0-5b66fa60396de0002c3ec727-2'},\n",
              " {'reasons': {'count': 0,\n",
              "   'items': [{'summary': 'This spot is popular',\n",
              "     'type': 'general',\n",
              "     'reasonName': 'globalInteractionReason'}]},\n",
              "  'venue': {'id': '62dc23c65c7612699f4e8b0b',\n",
              "   'name': 'Marmalade Kitchen & Bar',\n",
              "   'location': {'address': 'Jinvara',\n",
              "    'crossStreet': 'Yelahanka',\n",
              "    'lat': 13.126917,\n",
              "    'lng': 77.566385,\n",
              "    'labeledLatLngs': [{'label': 'display',\n",
              "      'lat': 13.126917,\n",
              "      'lng': 77.566385}],\n",
              "    'distance': 739,\n",
              "    'postalCode': '560064',\n",
              "    'cc': 'IN',\n",
              "    'city': 'Bangalore',\n",
              "    'state': 'Karnātaka',\n",
              "    'country': 'India',\n",
              "    'formattedAddress': ['Jinvara (Yelahanka)',\n",
              "     'Bangalore 560064',\n",
              "     'Karnātaka',\n",
              "     'India']},\n",
              "   'categories': [{'id': '4d4b7105d754a06374d81259',\n",
              "     'name': 'Restaurant',\n",
              "     'pluralName': 'Restaurants',\n",
              "     'shortName': 'Restaurant',\n",
              "     'icon': {'prefix': 'https://ss3.4sqi.net/img/categories_v2/food/default_',\n",
              "      'suffix': '.png'},\n",
              "     'primary': True}],\n",
              "   'photos': {'count': 0, 'groups': []},\n",
              "   'createdAt': 1658594246},\n",
              "  'referralId': 'e-0-62dc23c65c7612699f4e8b0b-3'},\n",
              " {'reasons': {'count': 0,\n",
              "   'items': [{'summary': 'This spot is popular',\n",
              "     'type': 'general',\n",
              "     'reasonName': 'globalInteractionReason'}]},\n",
              "  'venue': {'id': '60b6ebd599ff186ccfd6e80f',\n",
              "   'name': 'Hotel Annalakshmi',\n",
              "   'location': {'address': 'Next To Car Wash',\n",
              "    'crossStreet': 'Doddaballapura Main Road',\n",
              "    'lat': 13.128361,\n",
              "    'lng': 77.572478,\n",
              "    'labeledLatLngs': [{'label': 'display',\n",
              "      'lat': 13.128361,\n",
              "      'lng': 77.572478}],\n",
              "    'distance': 815,\n",
              "    'postalCode': '560064',\n",
              "    'cc': 'IN',\n",
              "    'city': 'Bangalore',\n",
              "    'state': 'Karnātaka',\n",
              "    'country': 'India',\n",
              "    'formattedAddress': ['Next To Car Wash (Doddaballapura Main Road)',\n",
              "     'Bangalore 560064',\n",
              "     'Karnātaka',\n",
              "     'India']},\n",
              "   'categories': [{'id': '4bf58dd8d48988d1d3941735',\n",
              "     'name': 'Vegan and Vegetarian Restaurant',\n",
              "     'pluralName': 'Vegan and Vegetarian Restaurants',\n",
              "     'shortName': 'Vegan and Vegetarian Restaurant',\n",
              "     'icon': {'prefix': 'https://ss3.4sqi.net/img/categories_v2/food/vegetarian_',\n",
              "      'suffix': '.png'},\n",
              "     'primary': True}],\n",
              "   'photos': {'count': 0, 'groups': []},\n",
              "   'createdAt': 1622600661},\n",
              "  'referralId': 'e-0-60b6ebd599ff186ccfd6e80f-4'}]"
            ]
          },
          "metadata": {},
          "execution_count": 73
        }
      ]
    },
    {
      "cell_type": "code",
      "source": [
        "venues = residential_results\n",
        "\n",
        "# Normalize the data using json_normalize\n",
        "nearby_venues = json_normalize(venues)\n",
        "table_str = nearby_venues.to_string(index=False)\n",
        "print(table_str)"
      ],
      "metadata": {
        "colab": {
          "base_uri": "https://localhost:8080/"
        },
        "id": "gjSqTsONq9gs",
        "outputId": "7ee04e0d-edad-4f6e-f2fa-63a8e18f6ccb"
      },
      "execution_count": 79,
      "outputs": [
        {
          "output_type": "stream",
          "name": "stdout",
          "text": [
            "                    referralId  reasons.count                                                                                     reasons.items                 venue.id                venue.name  venue.location.lat  venue.location.lng                                               venue.location.labeledLatLngs  venue.location.distance venue.location.cc venue.location.country                                                   venue.location.formattedAddress                                                                                                                                                                                                                                                                                    venue.categories  venue.photos.count venue.photos.groups  venue.createdAt venue.location.address venue.location.postalCode venue.location.city venue.location.state venue.venuePage.id venue.location.crossStreet\n",
            "e-0-517cde57e4b0efc90515ccdf-0              0 [{'summary': 'This spot is popular', 'type': 'general', 'reasonName': 'globalInteractionReason'}] 517cde57e4b0efc90515ccdf Akshaya Family Restaurant           13.136740           77.569436                   [{'label': 'display', 'lat': 13.13674, 'lng': 77.569436}]                      436                IN                  India                                                                           [India]                                                          [{'id': '4bf58dd8d48988d10f941735', 'name': 'Indian Restaurant', 'pluralName': 'Indian Restaurants', 'shortName': 'Indian', 'icon': {'prefix': 'https://ss3.4sqi.net/img/categories_v2/food/indian_', 'suffix': '.png'}, 'primary': True}]                   0                  []       1367137879                    NaN                       NaN                 NaN                  NaN                NaN                        NaN\n",
            "e-0-4d7c79df136bf04d505a608d-1              0 [{'summary': 'This spot is popular', 'type': 'general', 'reasonName': 'globalInteractionReason'}] 4d7c79df136bf04d505a608d           The Green House           13.136402           77.571499 [{'label': 'display', 'lat': 13.136401671816362, 'lng': 77.57149906667286}]                      571                IN                  India                                                                           [India]                                                          [{'id': '4bf58dd8d48988d10f941735', 'name': 'Indian Restaurant', 'pluralName': 'Indian Restaurants', 'shortName': 'Indian', 'icon': {'prefix': 'https://ss3.4sqi.net/img/categories_v2/food/indian_', 'suffix': '.png'}, 'primary': True}]                   0                  []       1300003295                    NaN                       NaN                 NaN                  NaN                NaN                        NaN\n",
            "e-0-5b66fa60396de0002c3ec727-2              0 [{'summary': 'This spot is popular', 'type': 'general', 'reasonName': 'globalInteractionReason'}] 5b66fa60396de0002c3ec727                     Shell           13.130438           77.571595              [{'label': 'display', 'lat': 13.13043842, 'lng': 77.57159492}]                      592                IN                  India                            [Doddaballapur Rd, Bangalore 560064, Karnātaka, India]                                                                [{'id': '4bf58dd8d48988d113951735', 'name': 'Fuel Station', 'pluralName': 'Fuel Stations', 'shortName': 'Fuel Station', 'icon': {'prefix': 'https://ss3.4sqi.net/img/categories_v2/shops/gas_', 'suffix': '.png'}, 'primary': True}]                   0                  []       1533475424       Doddaballapur Rd                    560064           Bangalore            Karnātaka          592427926                        NaN\n",
            "e-0-62dc23c65c7612699f4e8b0b-3              0 [{'summary': 'This spot is popular', 'type': 'general', 'reasonName': 'globalInteractionReason'}] 62dc23c65c7612699f4e8b0b   Marmalade Kitchen & Bar           13.126917           77.566385                  [{'label': 'display', 'lat': 13.126917, 'lng': 77.566385}]                      739                IN                  India                         [Jinvara (Yelahanka), Bangalore 560064, Karnātaka, India]                                                                   [{'id': '4d4b7105d754a06374d81259', 'name': 'Restaurant', 'pluralName': 'Restaurants', 'shortName': 'Restaurant', 'icon': {'prefix': 'https://ss3.4sqi.net/img/categories_v2/food/default_', 'suffix': '.png'}, 'primary': True}]                   0                  []       1658594246                Jinvara                    560064           Bangalore            Karnātaka                NaN                  Yelahanka\n",
            "e-0-60b6ebd599ff186ccfd6e80f-4              0 [{'summary': 'This spot is popular', 'type': 'general', 'reasonName': 'globalInteractionReason'}] 60b6ebd599ff186ccfd6e80f         Hotel Annalakshmi           13.128361           77.572478                  [{'label': 'display', 'lat': 13.128361, 'lng': 77.572478}]                      815                IN                  India [Next To Car Wash (Doddaballapura Main Road), Bangalore 560064, Karnātaka, India] [{'id': '4bf58dd8d48988d1d3941735', 'name': 'Vegan and Vegetarian Restaurant', 'pluralName': 'Vegan and Vegetarian Restaurants', 'shortName': 'Vegan and Vegetarian Restaurant', 'icon': {'prefix': 'https://ss3.4sqi.net/img/categories_v2/food/vegetarian_', 'suffix': '.png'}, 'primary': True}]                   0                  []       1622600661       Next To Car Wash                    560064           Bangalore            Karnātaka                NaN   Doddaballapura Main Road\n"
          ]
        }
      ]
    },
    {
      "cell_type": "code",
      "source": [
        "import folium\n",
        "from sklearn.cluster import KMeans\n",
        "selected_columns = ['venue.location.lat', 'venue.location.lng']\n",
        "X = nearby_venues[selected_columns]\n",
        "\n",
        "# Perform KMeans clustering\n",
        "kmeans = KMeans(n_clusters=3, random_state=42)\n",
        "nearby_venues['cluster'] = kmeans.fit_predict(X)\n",
        "\n",
        "# Create a map\n",
        "location_map = folium.Map(location=[LATITUDE, LONGITUDE], zoom_start=15)\n",
        "\n",
        "# Add markers for each cluster\n",
        "colors = ['red', 'blue', 'green']\n",
        "for idx, row in nearby_venues.iterrows():\n",
        "    cluster = row['cluster']\n",
        "    folium.CircleMarker(\n",
        "        location=[row['venue.location.lat'], row['venue.location.lng']],\n",
        "        radius=5,\n",
        "        color=colors[cluster],\n",
        "        fill=True,\n",
        "        fill_color=colors[cluster],\n",
        "        fill_opacity=0.7\n",
        "    ).add_to(location_map)\n",
        "\n",
        "# Display the map\n",
        "location_map.save('location_clusters_map.html')"
      ],
      "metadata": {
        "colab": {
          "base_uri": "https://localhost:8080/"
        },
        "id": "n4hZjvVZsAs5",
        "outputId": "301eeabf-450d-482b-a957-9ca9fac33321"
      },
      "execution_count": 81,
      "outputs": [
        {
          "output_type": "stream",
          "name": "stderr",
          "text": [
            "/usr/local/lib/python3.10/dist-packages/sklearn/cluster/_kmeans.py:870: FutureWarning: The default value of `n_init` will change from 10 to 'auto' in 1.4. Set the value of `n_init` explicitly to suppress the warning\n",
            "  warnings.warn(\n"
          ]
        }
      ]
    },
    {
      "cell_type": "code",
      "source": [
        "from IPython.display import IFrame\n",
        "\n",
        "# Specify the path to the uploaded HTML file\n",
        "html_file_path = '/content/location_clusters_map.html'\n",
        "\n",
        "# Display the embedded map using an IFrame\n",
        "IFrame(src=html_file_path, width='100%', height='500px')\n"
      ],
      "metadata": {
        "colab": {
          "base_uri": "https://localhost:8080/",
          "height": 521
        },
        "id": "0WuMdDXNuQOE",
        "outputId": "4c5af280-23bc-4eac-d31f-15989b4713e9"
      },
      "execution_count": 88,
      "outputs": [
        {
          "output_type": "execute_result",
          "data": {
            "text/plain": [
              "<IPython.lib.display.IFrame at 0x7e6e4be42020>"
            ],
            "text/html": [
              "\n",
              "        <iframe\n",
              "            width=\"100%\"\n",
              "            height=\"500px\"\n",
              "            src=\"/content/location_clusters_map.html\"\n",
              "            frameborder=\"0\"\n",
              "            allowfullscreen\n",
              "            \n",
              "        ></iframe>\n",
              "        "
            ]
          },
          "metadata": {},
          "execution_count": 88
        }
      ]
    },
    {
      "cell_type": "code",
      "source": [],
      "metadata": {
        "id": "nchTj74Hu0-V"
      },
      "execution_count": null,
      "outputs": []
    }
  ]
}